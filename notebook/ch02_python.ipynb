{
  "nbformat": 4,
  "nbformat_minor": 0,
  "metadata": {
    "colab": {
      "provenance": [],
      "authorship_tag": "ABX9TyNuJBHSJ/c2PLE4rue884dE",
      "include_colab_link": true
    },
    "kernelspec": {
      "name": "python3",
      "display_name": "Python 3"
    },
    "language_info": {
      "name": "python"
    }
  },
  "cells": [
    {
      "cell_type": "markdown",
      "metadata": {
        "id": "view-in-github",
        "colab_type": "text"
      },
      "source": [
        "<a href=\"https://colab.research.google.com/github/Park20182618/dl17/blob/main/notebook/ch02_python.ipynb\" target=\"_parent\"><img src=\"https://colab.research.google.com/assets/colab-badge.svg\" alt=\"Open In Colab\"/></a>"
      ]
    },
    {
      "cell_type": "markdown",
      "source": [
        "# ch02_python.ipynb\n",
        "## dl17\n",
        "- 파이썬 복습"
      ],
      "metadata": {
        "id": "nqLr8itlzkmI"
      }
    },
    {
      "cell_type": "code",
      "execution_count": null,
      "metadata": {
        "colab": {
          "base_uri": "https://localhost:8080/"
        },
        "id": "27pboBMbzhXq",
        "outputId": "d51212fb-c4ac-4ba5-daf6-6219d66cca67"
      },
      "outputs": [
        {
          "output_type": "execute_result",
          "data": {
            "text/plain": [
              "str"
            ]
          },
          "metadata": {},
          "execution_count": 4
        }
      ],
      "source": [
        "# cap02 - python basics\n",
        "#\n",
        "3.14 * 10 * 10 \n",
        "\n",
        "3.14 * 10**2\n",
        "\n",
        "\n",
        "type(10)\n",
        "\n",
        "type(3.14)\n",
        "\n",
        "type(\"python\")\n"
      ]
    },
    {
      "cell_type": "code",
      "source": [
        "\n",
        "\n",
        "r = 20\n",
        "\n",
        "PI = 3.14\t\t# 원주율 정의\n",
        "\n",
        "area = PI * r**2\n",
        "\n",
        "area\n"
      ],
      "metadata": {
        "colab": {
          "base_uri": "https://localhost:8080/"
        },
        "id": "_5BPuWVF1TEv",
        "outputId": "fd2e0b75-c2e2-43e9-c293-68e5994f235c"
      },
      "execution_count": null,
      "outputs": [
        {
          "output_type": "execute_result",
          "data": {
            "text/plain": [
              "1256.0"
            ]
          },
          "metadata": {},
          "execution_count": 3
        }
      ]
    },
    {
      "cell_type": "code",
      "source": [
        "\n",
        "# list\n",
        "lst = [ 10, 20, 30, 40, 50]\t\t# 리스트 정의\n",
        "\n",
        "lst\n"
      ],
      "metadata": {
        "colab": {
          "base_uri": "https://localhost:8080/"
        },
        "id": "lB9vado81ZLF",
        "outputId": "c631014f-b7af-4664-f58a-b822e2243124"
      },
      "execution_count": null,
      "outputs": [
        {
          "output_type": "execute_result",
          "data": {
            "text/plain": [
              "[10, 20, 30, 40, 50]"
            ]
          },
          "metadata": {},
          "execution_count": 2
        }
      ]
    },
    {
      "cell_type": "code",
      "source": [
        "\n",
        "# indexing & slicing\n",
        "lst[2] \t\t\t\t# 리스트의 요소 접근\n",
        "\n",
        "lst[2] = 90\t\t\t# 세 번째 요소를 90으로 변경\n",
        "\n",
        "lst\n",
        "\n",
        "lst.len(lst)\n",
        "\n",
        "len(lst)\n",
        "\n",
        "lst[0:3]\n",
        "\n",
        "lst[2:]\t\n",
        "\n",
        "lst[:3]\n",
        "\n",
        "lst[:-1]\n"
      ],
      "metadata": {
        "colab": {
          "base_uri": "https://localhost:8080/",
          "height": 236
        },
        "id": "tqrE0wSy1bGc",
        "outputId": "f7a79dd1-81e0-46ef-ce87-8b25e47e55ba"
      },
      "execution_count": null,
      "outputs": [
        {
          "output_type": "error",
          "ename": "AttributeError",
          "evalue": "ignored",
          "traceback": [
            "\u001b[0;31m---------------------------------------------------------------------------\u001b[0m",
            "\u001b[0;31mAttributeError\u001b[0m                            Traceback (most recent call last)",
            "\u001b[0;32m<ipython-input-8-f44da0e27f19>\u001b[0m in \u001b[0;36m<module>\u001b[0;34m\u001b[0m\n\u001b[1;32m      6\u001b[0m \u001b[0mlst\u001b[0m\u001b[0;34m\u001b[0m\u001b[0;34m\u001b[0m\u001b[0m\n\u001b[1;32m      7\u001b[0m \u001b[0;34m\u001b[0m\u001b[0m\n\u001b[0;32m----> 8\u001b[0;31m \u001b[0mlst\u001b[0m\u001b[0;34m.\u001b[0m\u001b[0mlen\u001b[0m\u001b[0;34m(\u001b[0m\u001b[0mlst\u001b[0m\u001b[0;34m)\u001b[0m\u001b[0;34m\u001b[0m\u001b[0;34m\u001b[0m\u001b[0m\n\u001b[0m\u001b[1;32m      9\u001b[0m \u001b[0;34m\u001b[0m\u001b[0m\n\u001b[1;32m     10\u001b[0m \u001b[0mlen\u001b[0m\u001b[0;34m(\u001b[0m\u001b[0mlst\u001b[0m\u001b[0;34m)\u001b[0m\u001b[0;34m\u001b[0m\u001b[0;34m\u001b[0m\u001b[0m\n",
            "\u001b[0;31mAttributeError\u001b[0m: 'list' object has no attribute 'len'"
          ]
        }
      ]
    },
    {
      "cell_type": "code",
      "source": [
        "\n",
        "# dictionary\n",
        "car = { 'HP':200, 'make': \"BNW\" }\t# 딕셔너리 정의\n",
        "\n",
        "car['HP']\n",
        "\n",
        "car['color'] = \"white\"\n",
        "\n",
        "car\n"
      ],
      "metadata": {
        "colab": {
          "base_uri": "https://localhost:8080/"
        },
        "id": "XHn7VT811fCE",
        "outputId": "0800e43c-9acc-4be8-b3af-07272bbbf512"
      },
      "execution_count": null,
      "outputs": [
        {
          "output_type": "execute_result",
          "data": {
            "text/plain": [
              "{'HP': 200, 'make': 'BNW', 'color': 'white'}"
            ]
          },
          "metadata": {},
          "execution_count": 9
        }
      ]
    },
    {
      "cell_type": "code",
      "source": [
        "\n",
        "# Conditional\n",
        "temp = -10\n",
        "\n",
        "if temp < 0 :\n",
        "    print(\"영하입니다.\")\t\n",
        "else:\n",
        "    print(\"영상입니다.\")\n"
      ],
      "metadata": {
        "id": "hcUQgjog1gBB"
      },
      "execution_count": null,
      "outputs": []
    },
    {
      "cell_type": "code",
      "source": [
        "\n",
        "# loop\n",
        "for i in [1, 2, 3, 4, 5] :\n",
        "    print(i, end=\" \")\n"
      ],
      "metadata": {
        "id": "2X-m40-j2B1f"
      },
      "execution_count": null,
      "outputs": []
    },
    {
      "cell_type": "code",
      "source": [
        "\n",
        "# functio\n",
        "def sayHello():\n",
        "    print(\"Hello!\")\n",
        "\n",
        "sayHello()\n"
      ],
      "metadata": {
        "id": "kubGmrM02C1Q"
      },
      "execution_count": null,
      "outputs": []
    },
    {
      "cell_type": "code",
      "source": [
        "\n",
        "# class\n",
        "class Person:\n",
        "  def __init__(self, name, age):\n",
        "    self.name = name\n",
        "    self.age = age\n",
        "\n",
        "  def sayHello(self):\n",
        "    print(\"Hello 나의 이름은 \" + self.name + ' 입니다.')\n",
        "\n",
        "p1 = Person(\"John\", 36)\n",
        "p1.sayHello()\n"
      ],
      "metadata": {
        "id": "CxlANbUA2Dzw"
      },
      "execution_count": null,
      "outputs": []
    },
    {
      "cell_type": "code",
      "source": [
        "\n",
        "# [DIY] 이름과 나이를 다 출력하게 코드를 변경하시오.\n",
        "#################################################\n",
        "class Person:\n",
        "  def __init__(self, name, age):\n",
        "    self.name = name\n",
        "    self.age = age\n",
        "\n",
        "  def sayHello(self):\n",
        "    print(\"Hello 나의 이름은 \" + self.name + ' 입니다.')\n",
        "    print(\"그리고 나의 나이는 \" + str(self.age) + ' 입니다.')\n",
        "\n",
        "p1 = Person(\"John\", 36)\n",
        "p1.sayHello()"
      ],
      "metadata": {
        "id": "KkWzTuE22GRw"
      },
      "execution_count": null,
      "outputs": []
    }
  ]
}