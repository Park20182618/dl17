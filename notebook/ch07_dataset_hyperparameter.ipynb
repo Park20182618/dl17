{
  "nbformat": 4,
  "nbformat_minor": 0,
  "metadata": {
    "colab": {
      "provenance": [],
      "include_colab_link": true
    },
    "kernelspec": {
      "name": "python3",
      "display_name": "Python 3"
    },
    "language_info": {
      "name": "python"
    }
  },
  "cells": [
    {
      "cell_type": "markdown",
      "metadata": {
        "id": "view-in-github",
        "colab_type": "text"
      },
      "source": [
        "<a href=\"https://colab.research.google.com/github/Park20182618/dl17/blob/main/notebook/ch07_dataset_hyperparameter.ipynb\" target=\"_parent\"><img src=\"https://colab.research.google.com/assets/colab-badge.svg\" alt=\"Open In Colab\"/></a>"
      ]
    },
    {
      "cell_type": "markdown",
      "source": [
        "# Datasets\n",
        "\n",
        "# Hyperparameter selection"
      ],
      "metadata": {
        "id": "Clgcf6QMGKSJ"
      }
    },
    {
      "cell_type": "code",
      "execution_count": 1,
      "metadata": {
        "colab": {
          "base_uri": "https://localhost:8080/"
        },
        "id": "zRijNEEYGCLo",
        "outputId": "04bdd3fb-afed-4ac9-a1bf-be7f04518519"
      },
      "outputs": [
        {
          "output_type": "execute_result",
          "data": {
            "text/plain": [
              "((3, 2, 3), 3, dtype('int64'))"
            ]
          },
          "metadata": {},
          "execution_count": 1
        }
      ],
      "source": [
        "# datasets\n",
        "import numpy as np\n",
        "\n",
        "array = np.array([[[1, 2, 3], [4, 5, 6]], [[7, 8, 9], [10, 11, 12]], [[13, 14, 15], [16, 17, 18]]])\n",
        "array.shape, array.ndim, array.dtype\n"
      ]
    },
    {
      "cell_type": "code",
      "source": [
        "arr1 = np.empty((3, 4, 5, 6)) # zeros(), ones()\n",
        "arr1.shape\n"
      ],
      "metadata": {
        "colab": {
          "base_uri": "https://localhost:8080/"
        },
        "id": "tBIRr3SfGfox",
        "outputId": "e9838922-c71f-4df3-893c-15474c618b44"
      },
      "execution_count": 2,
      "outputs": [
        {
          "output_type": "execute_result",
          "data": {
            "text/plain": [
              "(3, 4, 5, 6)"
            ]
          },
          "metadata": {},
          "execution_count": 2
        }
      ]
    },
    {
      "cell_type": "code",
      "source": [
        "# vector records\n",
        "arr2 = np.random.randn(500,8) # \n",
        "arr2.shape\n"
      ],
      "metadata": {
        "colab": {
          "base_uri": "https://localhost:8080/"
        },
        "id": "l0ybQIZ8G3rx",
        "outputId": "dfdf24ea-1cb7-44fe-9cf0-3f2134c6f50a"
      },
      "execution_count": 3,
      "outputs": [
        {
          "output_type": "execute_result",
          "data": {
            "text/plain": [
              "(500, 8)"
            ]
          },
          "metadata": {},
          "execution_count": 3
        }
      ]
    },
    {
      "cell_type": "code",
      "source": [
        "# color images\n",
        "arr3 = np.empty((60000,28,28,3)) #\n",
        "arr3.shape\n"
      ],
      "metadata": {
        "colab": {
          "base_uri": "https://localhost:8080/"
        },
        "id": "Dx6GIhvFHCSa",
        "outputId": "b152375d-4ec5-45f1-ba00-502db65cd050"
      },
      "execution_count": 4,
      "outputs": [
        {
          "output_type": "execute_result",
          "data": {
            "text/plain": [
              "(60000, 28, 28, 3)"
            ]
          },
          "metadata": {},
          "execution_count": 4
        }
      ]
    },
    {
      "cell_type": "code",
      "source": [
        "# time series\n",
        "arr4 = np.random.randn(20,365,4) # \n",
        "arr4.shape\n"
      ],
      "metadata": {
        "colab": {
          "base_uri": "https://localhost:8080/"
        },
        "id": "TCp8p5dYHLMZ",
        "outputId": "b5720f29-7193-4b69-e6b9-a23b1b6c33b8"
      },
      "execution_count": 5,
      "outputs": [
        {
          "output_type": "execute_result",
          "data": {
            "text/plain": [
              "(20, 365, 4)"
            ]
          },
          "metadata": {},
          "execution_count": 5
        }
      ]
    },
    {
      "cell_type": "markdown",
      "source": [
        "---\n",
        "---"
      ],
      "metadata": {
        "id": "lOd58jyHHbOB"
      }
    },
    {
      "cell_type": "markdown",
      "source": [
        "## Hyperparameter search\n",
        "- epochs\n",
        "- batch-size"
      ],
      "metadata": {
        "id": "AOQF5LVBO7VK"
      }
    },
    {
      "cell_type": "code",
      "source": [
        "!pip install scikeras"
      ],
      "metadata": {
        "colab": {
          "base_uri": "https://localhost:8080/"
        },
        "id": "Mruv57rBPMdA",
        "outputId": "665963ff-55e2-437a-8828-9414af3a0cf6"
      },
      "execution_count": 8,
      "outputs": [
        {
          "output_type": "stream",
          "name": "stdout",
          "text": [
            "Looking in indexes: https://pypi.org/simple, https://us-python.pkg.dev/colab-wheels/public/simple/\n",
            "Collecting scikeras\n",
            "  Downloading scikeras-0.10.0-py3-none-any.whl (27 kB)\n",
            "Requirement already satisfied: packaging>=0.21 in /usr/local/lib/python3.10/dist-packages (from scikeras) (23.1)\n",
            "Requirement already satisfied: scikit-learn>=1.0.0 in /usr/local/lib/python3.10/dist-packages (from scikeras) (1.2.2)\n",
            "Requirement already satisfied: numpy>=1.17.3 in /usr/local/lib/python3.10/dist-packages (from scikit-learn>=1.0.0->scikeras) (1.22.4)\n",
            "Requirement already satisfied: scipy>=1.3.2 in /usr/local/lib/python3.10/dist-packages (from scikit-learn>=1.0.0->scikeras) (1.10.1)\n",
            "Requirement already satisfied: joblib>=1.1.1 in /usr/local/lib/python3.10/dist-packages (from scikit-learn>=1.0.0->scikeras) (1.2.0)\n",
            "Requirement already satisfied: threadpoolctl>=2.0.0 in /usr/local/lib/python3.10/dist-packages (from scikit-learn>=1.0.0->scikeras) (3.1.0)\n",
            "Installing collected packages: scikeras\n",
            "Successfully installed scikeras-0.10.0\n"
          ]
        }
      ]
    },
    {
      "cell_type": "code",
      "source": [
        "# import numpy as np \n",
        "# import matplotlib.pyplot as plt \n",
        "import tensorflow as tf\n",
        "from sklearn.model_selection import GridSearchCV\n",
        "# from tensorflow.keras.wrappers.scikit_learn import KerasClassifier\n",
        "from scikeras.wrappers import KerasClassifier\n",
        "# OS warning cure\n",
        "import os\n",
        "os.environ['TF_CPP_MIN_LOG_LEVEL'] = '3'\n",
        "\n",
        "# 데이터 세트 준비\n",
        "(train_images, train_labels), (test_images, test_labels) = tf.keras.datasets.mnist.load_data()\n",
        "\n",
        "train_images = train_images.reshape((60000, 28 * 28))\n",
        "train_images = train_images.astype('float32') / 255\n",
        "\n",
        "test_images = test_images.reshape((10000, 28 * 28))\n",
        "test_images = test_images.astype('float32') / 255\n",
        "\n",
        "train_labels = tf.keras.utils.to_categorical(train_labels)\n",
        "test_labels = tf.keras.utils.to_categorical(test_labels)\n",
        "                             \n",
        "# 신경망 모델 구축\n",
        "def build_model():\n",
        "    network = tf.keras.models.Sequential()\n",
        "    network.add(tf.keras.layers.Dense(512, activation='relu', input_shape=(28 * 28,)))\n",
        "    network.add(tf.keras.layers.Dense(10, activation='sigmoid'))\n",
        "\n",
        "    network.compile(optimizer='rmsprop',\n",
        "                loss='categorical_crossentropy',\n",
        "                metrics=['accuracy'])\n",
        "    return network\n",
        "\n",
        "# 하이퍼 매개변수 딕셔너리\n",
        "param_grid = {\n",
        "              'epochs':[1, 2, 3],\t# 에포크 수: 1, 2, 3\n",
        "              'batch_size':[32, 64, 100]\t# 배치 크기: 32, 64, 100\n",
        "             }\n",
        "\n",
        "# 케라스 모델을 scikeras에서 사용하도록 포장한다. \n",
        "model = KerasClassifier(model = build_model, verbose=1)\n",
        "\n",
        "## Elapsed time start\n",
        "import time\n",
        "start = time.time()\n",
        "\n",
        "# 그리드 검색\n",
        "gs = GridSearchCV(\n",
        "    estimator=model,\n",
        "    param_grid=param_grid, \n",
        "    cv=3, \n",
        "    # n_jobs=-1 # comment this line to avoid out-of-memory\n",
        ")\n",
        "\n",
        "# 그리드 검색 결과 출력\n",
        "grid_result = gs.fit(train_images, train_labels)\n",
        "\n",
        "## Elapsed time end\n",
        "end = time.time()\n",
        "print('Elapsed time:', end - start) # Elapsed time: 122.5, 189.5\n",
        "\n",
        "print(grid_result.best_score_) # 0.9725, 0.9711\n",
        "print(grid_result.best_params_) # {'batch_size': 64, 'epochs': 3}\n"
      ],
      "metadata": {
        "colab": {
          "base_uri": "https://localhost:8080/"
        },
        "id": "QNIJCvZtHdiy",
        "outputId": "123723cb-09fa-4054-c18c-0aad829755be"
      },
      "execution_count": 9,
      "outputs": [
        {
          "output_type": "stream",
          "name": "stdout",
          "text": [
            "Downloading data from https://storage.googleapis.com/tensorflow/tf-keras-datasets/mnist.npz\n",
            "11490434/11490434 [==============================] - 0s 0us/step\n",
            "1250/1250 [==============================] - 14s 10ms/step - loss: 0.2402 - accuracy: 0.9278\n",
            "625/625 [==============================] - 2s 3ms/step\n",
            "1250/1250 [==============================] - 8s 6ms/step - loss: 0.2339 - accuracy: 0.9302\n",
            "625/625 [==============================] - 1s 2ms/step\n",
            "1250/1250 [==============================] - 8s 6ms/step - loss: 0.2431 - accuracy: 0.9283\n",
            "625/625 [==============================] - 1s 2ms/step\n",
            "Epoch 1/2\n",
            "1250/1250 [==============================] - 8s 6ms/step - loss: 0.2409 - accuracy: 0.9290\n",
            "Epoch 2/2\n",
            "1250/1250 [==============================] - 7s 5ms/step - loss: 0.1021 - accuracy: 0.9696\n",
            "625/625 [==============================] - 1s 2ms/step\n",
            "Epoch 1/2\n",
            "1250/1250 [==============================] - 7s 6ms/step - loss: 0.2346 - accuracy: 0.9291\n",
            "Epoch 2/2\n",
            "1250/1250 [==============================] - 7s 6ms/step - loss: 0.1013 - accuracy: 0.9706\n",
            "625/625 [==============================] - 1s 2ms/step\n",
            "Epoch 1/2\n",
            "1250/1250 [==============================] - 7s 5ms/step - loss: 0.2436 - accuracy: 0.9279\n",
            "Epoch 2/2\n",
            "1250/1250 [==============================] - 7s 6ms/step - loss: 0.0978 - accuracy: 0.9711\n",
            "625/625 [==============================] - 3s 5ms/step\n",
            "Epoch 1/3\n",
            "1250/1250 [==============================] - 7s 5ms/step - loss: 0.2420 - accuracy: 0.9284\n",
            "Epoch 2/3\n",
            "1250/1250 [==============================] - 9s 7ms/step - loss: 0.1023 - accuracy: 0.9697\n",
            "Epoch 3/3\n",
            "1250/1250 [==============================] - 9s 7ms/step - loss: 0.0685 - accuracy: 0.9797\n",
            "625/625 [==============================] - 1s 2ms/step\n",
            "Epoch 1/3\n",
            "1250/1250 [==============================] - 9s 7ms/step - loss: 0.2344 - accuracy: 0.9312\n",
            "Epoch 2/3\n",
            "1250/1250 [==============================] - 9s 7ms/step - loss: 0.0977 - accuracy: 0.9713\n",
            "Epoch 3/3\n",
            "1250/1250 [==============================] - 7s 6ms/step - loss: 0.0661 - accuracy: 0.9794\n",
            "625/625 [==============================] - 1s 2ms/step\n",
            "Epoch 1/3\n",
            "1250/1250 [==============================] - 8s 6ms/step - loss: 0.2407 - accuracy: 0.9287\n",
            "Epoch 2/3\n",
            "1250/1250 [==============================] - 7s 6ms/step - loss: 0.0988 - accuracy: 0.9703\n",
            "Epoch 3/3\n",
            "1250/1250 [==============================] - 7s 6ms/step - loss: 0.0669 - accuracy: 0.9802\n",
            "625/625 [==============================] - 1s 2ms/step\n",
            "625/625 [==============================] - 5s 7ms/step - loss: 0.2681 - accuracy: 0.9204\n",
            "313/313 [==============================] - 1s 3ms/step\n",
            "625/625 [==============================] - 6s 8ms/step - loss: 0.2643 - accuracy: 0.9234\n",
            "313/313 [==============================] - 1s 3ms/step\n",
            "625/625 [==============================] - 6s 9ms/step - loss: 0.2719 - accuracy: 0.9211\n",
            "313/313 [==============================] - 1s 2ms/step\n",
            "Epoch 1/2\n",
            "625/625 [==============================] - 5s 7ms/step - loss: 0.2724 - accuracy: 0.9200\n",
            "Epoch 2/2\n",
            "625/625 [==============================] - 5s 8ms/step - loss: 0.1145 - accuracy: 0.9657\n",
            "313/313 [==============================] - 1s 3ms/step\n",
            "Epoch 1/2\n",
            "625/625 [==============================] - 5s 7ms/step - loss: 0.2648 - accuracy: 0.9222\n",
            "Epoch 2/2\n",
            "625/625 [==============================] - 5s 8ms/step - loss: 0.1101 - accuracy: 0.9667\n",
            "313/313 [==============================] - 1s 2ms/step\n",
            "Epoch 1/2\n",
            "625/625 [==============================] - 5s 7ms/step - loss: 0.2675 - accuracy: 0.9215\n",
            "Epoch 2/2\n",
            "625/625 [==============================] - 4s 7ms/step - loss: 0.1118 - accuracy: 0.9668\n",
            "313/313 [==============================] - 1s 2ms/step\n",
            "Epoch 1/3\n",
            "625/625 [==============================] - 5s 7ms/step - loss: 0.2698 - accuracy: 0.9206\n",
            "Epoch 2/3\n",
            "625/625 [==============================] - 5s 7ms/step - loss: 0.1132 - accuracy: 0.9667\n",
            "Epoch 3/3\n",
            "625/625 [==============================] - 5s 7ms/step - loss: 0.0748 - accuracy: 0.9774\n",
            "313/313 [==============================] - 1s 3ms/step\n",
            "Epoch 1/3\n",
            "625/625 [==============================] - 5s 7ms/step - loss: 0.2628 - accuracy: 0.9248\n",
            "Epoch 2/3\n",
            "625/625 [==============================] - 5s 8ms/step - loss: 0.1103 - accuracy: 0.9668\n",
            "Epoch 3/3\n",
            "625/625 [==============================] - 4s 7ms/step - loss: 0.0715 - accuracy: 0.9783\n",
            "313/313 [==============================] - 1s 2ms/step\n",
            "Epoch 1/3\n",
            "625/625 [==============================] - 5s 7ms/step - loss: 0.2675 - accuracy: 0.9223\n",
            "Epoch 2/3\n",
            "625/625 [==============================] - 5s 8ms/step - loss: 0.1074 - accuracy: 0.9676\n",
            "Epoch 3/3\n",
            "625/625 [==============================] - 4s 7ms/step - loss: 0.0690 - accuracy: 0.9800\n",
            "313/313 [==============================] - 1s 3ms/step\n",
            "400/400 [==============================] - 4s 8ms/step - loss: 0.2987 - accuracy: 0.9129\n",
            "200/200 [==============================] - 1s 5ms/step\n",
            "400/400 [==============================] - 4s 8ms/step - loss: 0.2937 - accuracy: 0.9154\n",
            "200/200 [==============================] - 1s 3ms/step\n",
            "400/400 [==============================] - 4s 9ms/step - loss: 0.2983 - accuracy: 0.9138\n",
            "200/200 [==============================] - 1s 3ms/step\n",
            "Epoch 1/2\n",
            "400/400 [==============================] - 4s 8ms/step - loss: 0.2949 - accuracy: 0.9152\n",
            "Epoch 2/2\n",
            "400/400 [==============================] - 3s 8ms/step - loss: 0.1280 - accuracy: 0.9632\n",
            "200/200 [==============================] - 1s 3ms/step\n",
            "Epoch 1/2\n",
            "400/400 [==============================] - 3s 7ms/step - loss: 0.2915 - accuracy: 0.9161\n",
            "Epoch 2/2\n",
            "400/400 [==============================] - 3s 7ms/step - loss: 0.1229 - accuracy: 0.9647\n",
            "200/200 [==============================] - 1s 3ms/step\n",
            "Epoch 1/2\n",
            "400/400 [==============================] - 4s 8ms/step - loss: 0.2987 - accuracy: 0.9140\n",
            "Epoch 2/2\n",
            "400/400 [==============================] - 3s 8ms/step - loss: 0.1252 - accuracy: 0.9624\n",
            "200/200 [==============================] - 1s 3ms/step\n",
            "Epoch 1/3\n",
            "400/400 [==============================] - 3s 7ms/step - loss: 0.2980 - accuracy: 0.9137\n",
            "Epoch 2/3\n",
            "400/400 [==============================] - 3s 8ms/step - loss: 0.1254 - accuracy: 0.9634\n",
            "Epoch 3/3\n",
            "400/400 [==============================] - 4s 10ms/step - loss: 0.0826 - accuracy: 0.9750\n",
            "200/200 [==============================] - 1s 5ms/step\n",
            "Epoch 1/3\n",
            "400/400 [==============================] - 4s 8ms/step - loss: 0.2949 - accuracy: 0.9148\n",
            "Epoch 2/3\n",
            "400/400 [==============================] - 3s 8ms/step - loss: 0.1247 - accuracy: 0.9626\n",
            "Epoch 3/3\n",
            "400/400 [==============================] - 3s 9ms/step - loss: 0.0810 - accuracy: 0.9754\n",
            "200/200 [==============================] - 1s 5ms/step\n",
            "Epoch 1/3\n",
            "400/400 [==============================] - 4s 8ms/step - loss: 0.2992 - accuracy: 0.9137\n",
            "Epoch 2/3\n",
            "400/400 [==============================] - 3s 9ms/step - loss: 0.1257 - accuracy: 0.9626\n",
            "Epoch 3/3\n",
            "400/400 [==============================] - 4s 10ms/step - loss: 0.0809 - accuracy: 0.9764\n",
            "200/200 [==============================] - 1s 5ms/step\n",
            "Epoch 1/3\n",
            "1875/1875 [==============================] - 14s 7ms/step - loss: 0.2025 - accuracy: 0.9398\n",
            "Epoch 2/3\n",
            "1875/1875 [==============================] - 14s 7ms/step - loss: 0.0861 - accuracy: 0.9745\n",
            "Epoch 3/3\n",
            "1875/1875 [==============================] - 13s 7ms/step - loss: 0.0596 - accuracy: 0.9822\n",
            "Elapsed time: 492.59207010269165\n",
            "0.9719666666666665\n",
            "{'batch_size': 32, 'epochs': 3}\n"
          ]
        }
      ]
    }
  ]
}